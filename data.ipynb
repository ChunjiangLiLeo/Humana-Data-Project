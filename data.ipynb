{
 "cells": [
  {
   "cell_type": "code",
   "execution_count": 33,
   "id": "608fc49a",
   "metadata": {},
   "outputs": [],
   "source": [
    "# Install required libraries\n",
    "# You can install these packages using pip if not installed:\n",
    "# !pip install pandas sqlite3 pandasql\n",
    "\n",
    "import sqlite3\n",
    "import pandas as pd\n",
    "\n",
    "# Set working directory\n",
    "import os\n",
    "os.chdir(\"/Users/jade/Desktop/Humana/Training\")\n",
    "\n",
    "# Load datasets using pandas\n",
    "members_data = pd.read_csv(\"mdata.csv\")\n",
    "pharmacy_data = pd.read_csv(\"PU.csv\")\n",
    "social_data = pd.read_csv(\"Socialh.csv\")\n",
    "web_data = pd.read_csv(\"WA.csv\")"
   ]
  },
  {
   "cell_type": "code",
   "execution_count": 35,
   "id": "0462eb9a",
   "metadata": {},
   "outputs": [],
   "source": [
    "import re\n",
    "def convert_tenure(value):\n",
    "    # Check if value is a string before processing\n",
    "    if isinstance(value, str):\n",
    "        # If the format is 'X - Y YEARS', calculate the midpoint\n",
    "        if '-' in value and 'YEARS' in value:\n",
    "            numbers = re.findall(r'\\d*\\.?\\d+', value)\n",
    "            if len(numbers) == 2:  # Ensure there are two numbers for the range\n",
    "                return (float(numbers[0]) + float(numbers[1])) / 2\n",
    "        # If the format is 'X+ YEARS', take the number before the '+'\n",
    "        elif '+' in value and 'YEARS' in value:\n",
    "            numbers = re.findall(r'\\d*\\.?\\d+', value)\n",
    "            if len(numbers) == 1:  # Ensure there's at least one number\n",
    "                return float(numbers[0])\n",
    "        # If there's just 'X YEARS', return the number\n",
    "        elif 'YEARS' in value:\n",
    "            numbers = re.findall(r'\\d*\\.?\\d+', value)\n",
    "            if len(numbers) == 1:\n",
    "                return float(numbers[0])\n",
    "        # Default case for strings that don't match the expected format\n",
    "        return None\n",
    "    # If value is already a float or an int, return it as is\n",
    "    elif isinstance(value, (float, int)):\n",
    "        return value\n",
    "    # Default return for unexpected types (e.g., NaN, None)\n",
    "    return None\n",
    "\n",
    "# Applying the function to the column\n",
    "members_data['tenure_band'] = members_data['tenure_band'].apply(convert_tenure)\n",
    "members_data['disabled_ind'] = members_data['disabled_ind'].replace({'Y': 1, 'N': 0})\n",
    "members_data['dual_eligible_ind'] = members_data['dual_eligible_ind'].replace({'Y': 1, 'N': 0})\n",
    "members_data['lis_ind']= members_data['lis_ind'].replace({'Y': 1, 'N': 0})"
   ]
  },
  {
   "cell_type": "code",
   "execution_count": 60,
   "id": "4138650b",
   "metadata": {},
   "outputs": [],
   "source": [
    "from sklearn.feature_selection import VarianceThreshold\n",
    "import numpy as np\n",
    "\n",
    "# Function to remove high correlation and low variance columns\n",
    "def clean_data(df, variance_threshold=0.01, correlation_threshold=0.9):\n",
    "    # Step 1: Remove variables with low variance\n",
    "    selector = VarianceThreshold(threshold=variance_threshold)\n",
    "    df_reduced = selector.fit_transform(df)\n",
    "    \n",
    "    # Convert back to DataFrame to handle column names\n",
    "    columns_kept = df.columns[selector.get_support()]\n",
    "    df_filtered = pd.DataFrame(df_reduced, columns=columns_kept)\n",
    "\n",
    "    # Step 2: Remove highly correlated variables\n",
    "    corr_matrix = df_filtered.corr().abs()\n",
    "    upper = corr_matrix.where(np.triu(np.ones(corr_matrix.shape), k=1).astype(bool))\n",
    "    to_drop = [column for column in upper.columns if any(upper[column] > correlation_threshold)]\n",
    "    \n",
    "    # Drop highly correlated columns\n",
    "    df_cleaned = df_filtered.drop(columns=to_drop)\n",
    "    \n",
    "    return df_cleaned\n",
    "\n",
    "# Assuming your data is already loaded in these variables\n",
    "# Apply the cleaning process to each dataset\n",
    "members_data_cleaned = clean_data(members_data)\n",
    "pharmacy_data_cleaned = clean_data(pharmacy_data)\n",
    "social_data_cleaned = clean_data(social_data)\n",
    "web_data_cleaned = clean_data(web_data)"
   ]
  },
  {
   "cell_type": "code",
   "execution_count": 61,
   "id": "149d0965",
   "metadata": {},
   "outputs": [
    {
     "name": "stdout",
     "output_type": "stream",
     "text": [
      "         consec_tenure_month  dual_eligible_ind  disabled_ind  lis_ind  \\\n",
      "0                        6.0                0.0           0.0      0.0   \n",
      "1                       59.0                0.0           1.0      0.0   \n",
      "2                      119.0                0.0           0.0      0.0   \n",
      "3                       24.0                0.0           1.0      0.0   \n",
      "4                       60.0                0.0           0.0      0.0   \n",
      "...                      ...                ...           ...      ...   \n",
      "1527899                  4.0                0.0           0.0      0.0   \n",
      "1527900                 23.0                0.0           0.0      0.0   \n",
      "1527901                  3.0                0.0           0.0      0.0   \n",
      "1527902                 24.0                0.0           1.0      0.0   \n",
      "1527903                 12.0                0.0           0.0      0.0   \n",
      "\n",
      "                id  \n",
      "0        1551235.0  \n",
      "1        1643841.0  \n",
      "2         540296.0  \n",
      "3         729600.0  \n",
      "4         716836.0  \n",
      "...            ...  \n",
      "1527899  1551651.0  \n",
      "1527900  1584607.0  \n",
      "1527901  1246390.0  \n",
      "1527902   695942.0  \n",
      "1527903   209485.0  \n",
      "\n",
      "[1527904 rows x 5 columns]\n"
     ]
    }
   ],
   "source": [
    "print(members_data_cleaned)"
   ]
  },
  {
   "cell_type": "code",
   "execution_count": null,
   "id": "35755c40",
   "metadata": {},
   "outputs": [],
   "source": []
  }
 ],
 "metadata": {
  "kernelspec": {
   "display_name": "Python 3 (ipykernel)",
   "language": "python",
   "name": "python3"
  },
  "language_info": {
   "codemirror_mode": {
    "name": "ipython",
    "version": 3
   },
   "file_extension": ".py",
   "mimetype": "text/x-python",
   "name": "python",
   "nbconvert_exporter": "python",
   "pygments_lexer": "ipython3",
   "version": "3.11.5"
  }
 },
 "nbformat": 4,
 "nbformat_minor": 5
}
