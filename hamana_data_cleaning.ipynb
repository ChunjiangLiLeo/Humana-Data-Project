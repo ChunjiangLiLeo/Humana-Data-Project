{
 "cells": [
  {
   "cell_type": "code",
   "execution_count": 2,
   "metadata": {},
   "outputs": [],
   "source": [
    "import os\n",
    "import sqlite3\n",
    "import pandas as pd\n",
    "import seaborn as sns"
   ]
  },
  {
   "cell_type": "code",
   "execution_count": 3,
   "metadata": {},
   "outputs": [],
   "source": [
    "os.chdir(\"/Users/nanxiwang/Desktop/Training_final\")"
   ]
  },
  {
   "cell_type": "code",
   "execution_count": 4,
   "metadata": {},
   "outputs": [],
   "source": [
    "con = sqlite3.connect('my_data.db')"
   ]
  },
  {
   "cell_type": "code",
   "execution_count": null,
   "metadata": {},
   "outputs": [],
   "source": [
    "condition_data = pd.read_csv(\"mcondition.csv\")\n",
    "detail_data = pd.read_csv(\"mdetail.csv\")\n",
    "claims_data = pd.read_csv(\"mclaims.csv\")\n",
    "target_data = pd.read_csv(\"Tmembers.csv\")\n"
   ]
  },
  {
   "cell_type": "code",
   "execution_count": null,
   "metadata": {},
   "outputs": [],
   "source": [
    "#missing value>50%\n",
    "\n",
    "condition_data.isna().sum(axis=0)"
   ]
  },
  {
   "cell_type": "code",
   "execution_count": null,
   "metadata": {},
   "outputs": [],
   "source": [
    "#low variance\n",
    "\n",
    "#print(detail_data.var()['age'])\n",
    "#print(detail_data.var()['plan_benefit_package_id'])\n",
    "\n",
    "#sns.countplot(data=detail_data,x=detail_data['unattributed_provider'])\n",
    "#sns.countplot(data=detail_data,x=detail_data['veteran_ind'])\n",
    "#sns.countplot(data=detail_data,x=detail_data['mco_contract_nbr'])\n",
    "#sns.countplot(data=detail_data,x=detail_data['pbp_segment_id'])\n",
    "#sns.countplot(data=detail_data,x=detail_data['region'])\n",
    "#sns.countplot(data=detail_data,x=detail_data['race'])\n",
    "\n",
    "#delete county of residence?"
   ]
  }
 ],
 "metadata": {
  "kernelspec": {
   "display_name": "Python 3",
   "language": "python",
   "name": "python3"
  },
  "language_info": {
   "codemirror_mode": {
    "name": "ipython",
    "version": 3
   },
   "file_extension": ".py",
   "mimetype": "text/x-python",
   "name": "python",
   "nbconvert_exporter": "python",
   "pygments_lexer": "ipython3",
   "version": "3.8.5"
  }
 },
 "nbformat": 4,
 "nbformat_minor": 4
}
